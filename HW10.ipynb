{
 "cells": [
  {
   "cell_type": "markdown",
   "metadata": {
    "id": "XhATaaotWpYY"
   },
   "source": [
    "# Homework \\#10\n",
    "\n",
    "Implementation of VO"
   ]
  },
  {
   "cell_type": "markdown",
   "metadata": {
    "id": "1nvWOLW-YUMv"
   },
   "source": [
    "## Google Colab\n"
   ]
  },
  {
   "cell_type": "code",
   "execution_count": null,
   "metadata": {
    "colab": {
     "base_uri": "https://localhost:8080/"
    },
    "executionInfo": {
     "elapsed": 257,
     "status": "ok",
     "timestamp": 1612557785555,
     "user": {
      "displayName": "Taeyoung Lee",
      "photoUrl": "",
      "userId": "07906618747313337531"
     },
     "user_tz": 300
    },
    "id": "f7eDiZtVX6DM",
    "outputId": "79b61644-4fd1-4046-c98d-fbc6a8a3d93a"
   },
   "outputs": [],
   "source": [
    "# from google.colab import drive\n",
    "\n",
    "# drive.mount('/content/drive')\n",
    "# %cd '/content/drive/MyDrive/Colab Notebooks'\n",
    "\n",
    "# import numpy as np\n",
    "# import cv2\n",
    "# import matplotlib.pyplot as plt\n",
    "# import math\n",
    "# import scipy.signal\n",
    "# import scipy.linalg\n",
    "# import importlib\n",
    "# import mae6292.tools as mae6292\n",
    "\n",
    "# from google.colab.patches import cv2_imshow\n",
    "# from google.colab import files as FILE\n",
    "# import os"
   ]
  },
  {
   "cell_type": "markdown",
   "metadata": {
    "id": "YaFe_Ot-ziRV"
   },
   "source": [
    "## Jupyter Notebook"
   ]
  },
  {
   "cell_type": "code",
   "execution_count": 1,
   "metadata": {
    "colab": {
     "base_uri": "https://localhost:8080/",
     "height": 334
    },
    "executionInfo": {
     "elapsed": 231,
     "status": "error",
     "timestamp": 1612557788001,
     "user": {
      "displayName": "Taeyoung Lee",
      "photoUrl": "",
      "userId": "07906618747313337531"
     },
     "user_tz": 300
    },
    "id": "XOGSROrK6oGt",
    "outputId": "201bf5ab-4d81-436e-cb82-4c62e1feaf32"
   },
   "outputs": [],
   "source": [
    "import numpy as np\n",
    "import cv2\n",
    "import matplotlib.pyplot as plt\n",
    "import math\n",
    "import scipy.signal\n",
    "import scipy.linalg\n",
    "import mae6292.tools as mae6292\n",
    "import importlib\n",
    "\n",
    "from mae6292.imshow import cv2_imshow"
   ]
  },
  {
   "cell_type": "markdown",
   "metadata": {
    "id": "SEUEyf2dPM-4"
   },
   "source": [
    "# VO - KITTI\n",
    "\n",
    "The following codes perform VO for KITTI dataset, for the first 10 frames.\n",
    "\n",
    "## Boostrapping\n",
    "\n",
    "Bootstrapping to initilize VO has been implemented by\n",
    "```\n",
    "keypoints0, p_W0, R1, T1 = mae6292.VO_bootstrap(img0, img1, K, display = False)   \n",
    "```"
   ]
  },
  {
   "cell_type": "code",
   "execution_count": 2,
   "metadata": {
    "scrolled": true
   },
   "outputs": [
    {
     "name": "stdout",
     "output_type": "stream",
     "text": [
      "N_keypoints0= 851\n"
     ]
    }
   ],
   "source": [
    "#open a new window for plot\n",
    "%matplotlib tk \n",
    "\n",
    "# load K and first two images\n",
    "K = np.loadtxt('KITTI/K.txt')\n",
    "img0 = cv2.imread('KITTI/000000.png', cv2.IMREAD_GRAYSCALE)\n",
    "img1 = cv2.imread('KITTI/000001.png', cv2.IMREAD_GRAYSCALE)\n",
    "\n",
    "# PARAMETERS\n",
    "param_bootstrap = {\n",
    "    # keypoints\n",
    "    'W_harris_patch' : 4, # size of harris patch\n",
    "    'kappa_harris' : 0.08, # kappa for harris score\n",
    "    'N_keypoint' : 2000, # number of keypoints to be detected\n",
    "    'W_nms' : 8, # patch size for non-maximum supression\n",
    "    # KLT\n",
    "    'W_KLT' : 4, # patch size for KLT\n",
    "    'tol_KLT_bidir' : 1, # tolerence of bidirectional error\n",
    "    # find essential matrix\n",
    "    'tol_E' : 1, # tolerence for epipolar line distance\n",
    "    'tol_E_RANSAC_prob' : 0.99, # eseential matrix RANSAC probability\n",
    "    # triangulation\n",
    "    'tol_TRI_mu' : 1e-3, # tolerence for the singular value ratio\n",
    "    'tol_TRI_rep' : 1 # tolerence for the reprojection error\n",
    "}\n",
    "\n",
    "keypoints0, p_W0, R1, T1 = mae6292.VO_bootstrap(img0, img1, K, param_bootstrap, display = True)   \n",
    "\n",
    "print('N_keypoints0=',len(keypoints0))\n"
   ]
  },
  {
   "cell_type": "markdown",
   "metadata": {},
   "source": [
    "## Localization and Mapping\n",
    "\n",
    "\n",
    "For the first 10 frames, the sequential process for localization and mapping has been implemented by\n",
    "```\n",
    "    R, T, S, C, fig = mae6292.VO_localization_mapping(i_frame, K, img, img_pre, S_pre, C_pre, display_process=True)\n",
    "```\n",
    "Each frame is saved under the folder `KITTI_output`"
   ]
  },
  {
   "cell_type": "code",
   "execution_count": 3,
   "metadata": {
    "tags": []
   },
   "outputs": [
    {
     "name": "stdout",
     "output_type": "stream",
     "text": [
      "i_frame= 1\n",
      "R= [[ 0.99999267  0.00327993  0.00197406]\n",
      " [-0.00328373  0.99999276  0.00192175]\n",
      " [-0.00196774 -0.00192822  0.9999962 ]]\n",
      "T_W= [-0.01956634 -0.00425165  1.00988552]\n",
      " \n",
      "i_frame= 2\n",
      "S_pre= 851 , KLT_matched= 671 , PnP_inliers= 669 , S_new =  918\n",
      "C_pre= 636 , KLT_matched= 441 , TRI_inliers= 249 , C_new =  370\n",
      "R= [[ 0.99998542  0.00211629  0.00496859]\n",
      " [-0.00213457  0.99999096  0.00367715]\n",
      " [-0.00496077 -0.00368771  0.9999809 ]]\n",
      "T_W= [-5.26776646e-02  2.92192222e-04  2.06377269e+00]\n",
      " \n",
      "i_frame= 3\n",
      "S_pre= 918 , KLT_matched= 809 , PnP_inliers= 804 , S_new =  847\n",
      "C_pre= 370 , KLT_matched= 186 , TRI_inliers= 43 , C_new =  389\n",
      "R= [[ 0.99996375  0.00218644  0.00822943]\n",
      " [-0.00222981  0.99998366  0.00526434]\n",
      " [-0.00821778 -0.0052825   0.99995228]]\n",
      "T_W= [-0.08446169  0.0032795   3.14759821]\n",
      " \n",
      "i_frame= 4\n",
      "S_pre= 847 , KLT_matched= 741 , PnP_inliers= 700 , S_new =  726\n",
      "C_pre= 389 , KLT_matched= 176 , TRI_inliers= 26 , C_new =  422\n",
      "R= [[ 9.99929522e-01  6.65741991e-04  1.18536400e-02]\n",
      " [-7.39979809e-04  9.99980135e-01  6.25958699e-03]\n",
      " [-1.18492373e-02 -6.26791728e-03  9.99910150e-01]]\n",
      "T_W= [-0.14584379  0.00621231  4.29922257]\n",
      " \n",
      "i_frame= 5\n",
      "S_pre= 726 , KLT_matched= 646 , PnP_inliers= 628 , S_new =  663\n",
      "C_pre= 422 , KLT_matched= 203 , TRI_inliers= 35 , C_new =  402\n",
      "R= [[ 0.99988331  0.00161479  0.01519047]\n",
      " [-0.00171835  0.99997536  0.00680684]\n",
      " [-0.0151791  -0.00683215  0.99986145]]\n",
      "T_W= [-2.02927105e-01  3.75415893e-03  5.45978729e+00]\n",
      " \n",
      "i_frame= 6\n",
      "S_pre= 663 , KLT_matched= 596 , PnP_inliers= 574 , S_new =  602\n",
      "C_pre= 402 , KLT_matched= 194 , TRI_inliers= 28 , C_new =  408\n",
      "R= [[ 9.99815487e-01 -3.48966702e-04  1.92059742e-02]\n",
      " [ 1.88083647e-04  9.99964887e-01  8.37788821e-03]\n",
      " [-1.92082234e-02 -8.37273005e-03  9.99780447e-01]]\n",
      "T_W= [-2.46182059e-01  1.24775379e-04  6.61081298e+00]\n",
      " \n",
      "i_frame= 7\n",
      "S_pre= 602 , KLT_matched= 537 , PnP_inliers= 491 , S_new =  522\n",
      "C_pre= 408 , KLT_matched= 198 , TRI_inliers= 31 , C_new =  498\n",
      "R= [[ 0.99971946 -0.00322586  0.02346468]\n",
      " [ 0.00301242  0.99995382  0.00912579]\n",
      " [-0.02349303 -0.00905255  0.99968301]]\n",
      "T_W= [-0.3177483  -0.01808153  7.84894975]\n",
      " \n",
      "i_frame= 8\n",
      "S_pre= 522 , KLT_matched= 452 , PnP_inliers= 403 , S_new =  479\n",
      "C_pre= 498 , KLT_matched= 249 , TRI_inliers= 76 , C_new =  487\n",
      "R= [[ 0.99964792 -0.00373243  0.02626983]\n",
      " [ 0.00352897  0.99996345  0.00778691]\n",
      " [-0.02629793 -0.00769146  0.99962456]]\n",
      "T_W= [-0.37279796 -0.02363746  9.05812708]\n",
      " \n",
      "i_frame= 9\n",
      "S_pre= 479 , KLT_matched= 393 , PnP_inliers= 370 , S_new =  420\n",
      "C_pre= 487 , KLT_matched= 214 , TRI_inliers= 50 , C_new =  558\n",
      "R= [[ 0.99953084 -0.00305573  0.03047575]\n",
      " [ 0.00288493  0.9999799   0.00564682]\n",
      " [-0.03049239 -0.00555625  0.99951956]]\n",
      "T_W= [-0.4256752  -0.02252951 10.32054208]\n",
      " \n",
      "i_frame= 10\n",
      "S_pre= 420 , KLT_matched= 357 , PnP_inliers= 332 , S_new =  397\n",
      "C_pre= 558 , KLT_matched= 228 , TRI_inliers= 65 , C_new =  641\n",
      "R= [[ 0.99943463 -0.00238635  0.03353679]\n",
      " [ 0.00227869  0.99999213  0.00324821]\n",
      " [-0.03354427 -0.00316996  0.99943221]]\n",
      "T_W= [-0.46809859 -0.03010128 11.55121791]\n",
      " \n"
     ]
    }
   ],
   "source": [
    "#open a new window for plot\n",
    "%matplotlib tk \n",
    "importlib.reload(mae6292)\n",
    "\n",
    "param = {\n",
    "    # keypoints\n",
    "    'W_harris_patch' : 4, # size of harris patch\n",
    "    'kappa_harris' : 0.08, # kappa for harris score\n",
    "    'N_keypoint' : 2000, # number of keypoints to be detected\n",
    "    'W_nms' : 8, # patch size for non-maximum supression\n",
    "    # KLT\n",
    "    'W_KLT' : 4, # patch size for KLT\n",
    "    'tol_KLT_bidir' : 1, # tolerence of bidirectional error\n",
    "    # triangulation\n",
    "    'tol_TRI_mu' : 1e-3, # tolerence for the singular value ratio\n",
    "    'tol_TRI_rep' : 0.5, # tolerence for the reprojection error\n",
    "    # mapping\n",
    "    'tol_keypoints_new' : 18 # new keypoints should be district from the tracked keypoints by this distance\n",
    "} # up to 1000 \n",
    "\n",
    "# iniitlize iteration using img0\n",
    "img_pre = img0\n",
    "S_pre = mae6292.state(keypoints0, p_W0, [np.zeros((3,1))])\n",
    "C_pre = mae6292.candidate([],[],[],[])\n",
    "\n",
    "# number of frames to process\n",
    "N_frames = 10\n",
    "display_process = True\n",
    "\n",
    "# variables to save the vehicle location and the keypoints in the W-frame \n",
    "T_W = np.zeros((3,N_frames+1))\n",
    "p_W = p_W0\n",
    "\n",
    "for i_frame in range(1,N_frames+1):\n",
    "    \n",
    "    print('i_frame=',i_frame)\n",
    "\n",
    "    # VO localization and mapping\n",
    "    img = cv2.imread(\"KITTI/{:06d}.png\".format(i_frame),cv2.IMREAD_GRAYSCALE)\n",
    "    img_rgb = cv2.cvtColor(cv2.imread(\"KITTI/{:06d}.png\".format(i_frame)), cv2.COLOR_BGR2RGB)\n",
    "    R, T, S, C, fig = mae6292.VO_localization_mapping(i_frame, img, img_rgb, img_pre, S_pre, C_pre, K, param, display_process)\n",
    "    img_pre, S_pre, C_pre = img, S, C\n",
    "\n",
    "    # save figure \n",
    "    if display_process:\n",
    "        fig.savefig(\"KITTI_output/{:06d}.png\".format(i_frame))\n",
    "        # !!!NOTE!!!:\n",
    "        # when N_frames is large, uncomment the following to avoid generating many figures in your screeen\n",
    "        # plt.close(fig)\n",
    "\n",
    "    # save the vehicle location and the distinct keypoints \n",
    "    T_W[:,i_frame] = (-R.T@T).flatten()\n",
    "    p_W_dist = scipy.spatial.distance.cdist( S.p_W.T, p_W.T , 'euclidean')\n",
    "    index_distinct = np.where( np.min(p_W_dist, axis=1) > 3 )[0]\n",
    "    p_W = np.append(p_W, S.p_W[:,index_distinct], axis=1)\n",
    "\n",
    "    # print pose\n",
    "    print('R=',R)\n",
    "    print('T_W=',(-R.T@T).flatten())\n",
    "    print(' ')\n",
    "\n",
    "\n"
   ]
  },
  {
   "cell_type": "markdown",
   "metadata": {},
   "source": [
    "## Generate Trajectory Map\n",
    "\n",
    "The following codes visualize the vehicle trajectory and the keypoints in the W-frame. \n",
    "\n",
    "(You may need to adjust th eaxis limit)"
   ]
  },
  {
   "cell_type": "code",
   "execution_count": 4,
   "metadata": {},
   "outputs": [],
   "source": [
    "fig = plt.figure()\n",
    "ax = plt.axes(projection = '3d')\n",
    "ax.plot(T_W[0,:], T_W[1,:], T_W[2,:], 'b')\n",
    "ax.scatter(p_W[0,:], p_W[1,:], p_W[2,:], s=1, c='r', marker='o')\n",
    "ax.set_xlim(-10,20)\n",
    "ax.set_zlim(-2,20)\n",
    "ax.set_xlabel('x',fontsize=6)\n",
    "ax.set_ylabel('y',fontsize=6)\n",
    "ax.set_zlabel('z',fontsize=6)\n",
    "ax.view_init(elev=0., azim=-90)"
   ]
  },
  {
   "cell_type": "markdown",
   "metadata": {},
   "source": [
    "## Generate Video\n",
    "\n",
    "The output images can be converted into a video as follows."
   ]
  },
  {
   "cell_type": "code",
   "execution_count": 9,
   "metadata": {},
   "outputs": [],
   "source": [
    "img_array = []\n",
    "\n",
    "for i_frame in range(1,N_frames):\n",
    "    filename = \"KITTI_output/{:06d}.png\".format(i_frame)\n",
    "    img = cv2.imread(filename)\n",
    "    img_array.append(img)\n",
    "\n",
    "height, width, layers = img.shape\n",
    "size = (width,height)\n",
    "\n",
    "fps = 3\n",
    "codec = cv2.VideoWriter_fourcc(*'mp4v')\n",
    "out = cv2.VideoWriter('KITTI.mp4',codec, fps, size)\n",
    " \n",
    "for i in range(len(img_array)):\n",
    "    out.write(img_array[i])\n",
    "\n",
    "out.release()"
   ]
  },
  {
   "cell_type": "markdown",
   "metadata": {},
   "source": [
    "## Problems 1 and 2\n",
    "\n",
    "Follow the directions in `HW10_prob1.ipynb`and `HW10_prob2.ipynb`"
   ]
  },
  {
   "cell_type": "code",
   "execution_count": null,
   "metadata": {},
   "outputs": [],
   "source": []
  }
 ],
 "metadata": {
  "colab": {
   "collapsed_sections": [
    "YaFe_Ot-ziRV"
   ],
   "name": "image_filtering.ipynb",
   "provenance": [],
   "toc_visible": true
  },
  "kernelspec": {
   "display_name": "Python 3",
   "language": "python",
   "name": "python3"
  },
  "language_info": {
   "codemirror_mode": {
    "name": "ipython",
    "version": 3
   },
   "file_extension": ".py",
   "mimetype": "text/x-python",
   "name": "python",
   "nbconvert_exporter": "python",
   "pygments_lexer": "ipython3",
   "version": "3.8.3"
  }
 },
 "nbformat": 4,
 "nbformat_minor": 1
}
