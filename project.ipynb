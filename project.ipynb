{
 "cells": [
  {
   "cell_type": "markdown",
   "metadata": {
    "id": "XhATaaotWpYY"
   },
   "source": [
    "# Project\n",
    "\n",
    "Implementation of VO"
   ]
  },
  {
   "cell_type": "markdown",
   "metadata": {
    "id": "YaFe_Ot-ziRV"
   },
   "source": [
    "## Import Modules"
   ]
  },
  {
   "cell_type": "code",
   "execution_count": 1,
   "metadata": {
    "colab": {
     "base_uri": "https://localhost:8080/",
     "height": 334
    },
    "executionInfo": {
     "elapsed": 231,
     "status": "error",
     "timestamp": 1612557788001,
     "user": {
      "displayName": "Taeyoung Lee",
      "photoUrl": "",
      "userId": "07906618747313337531"
     },
     "user_tz": 300
    },
    "id": "XOGSROrK6oGt",
    "outputId": "201bf5ab-4d81-436e-cb82-4c62e1feaf32"
   },
   "outputs": [],
   "source": [
    "import numpy as np\n",
    "import cv2\n",
    "import matplotlib.pyplot as plt\n",
    "import math\n",
    "import scipy.signal\n",
    "import scipy.linalg\n",
    "import mae6292.tools as mae6292\n",
    "import importlib\n",
    "\n",
    "from mae6292.imshow import cv2_imshow"
   ]
  },
  {
   "cell_type": "markdown",
   "metadata": {
    "id": "SEUEyf2dPM-4"
   },
   "source": [
    "# VO - KITTI\n",
    "\n",
    "The following codes perform VO for KITTI dataset, for the first 10 frames.\n",
    "\n",
    "## Boostrapping\n",
    "\n",
    "Bootstrapping to initilize VO has been implemented by\n",
    "```\n",
    "keypoints0, p_W0, R1, T1 = mae6292.VO_bootstrap(img0, img1, K, display = False)   \n",
    "```"
   ]
  },
  {
   "cell_type": "code",
   "execution_count": 3,
   "metadata": {
    "scrolled": true
   },
   "outputs": [
    {
     "name": "stdout",
     "output_type": "stream",
     "text": [
      "N_keypoints0= 733\n"
     ]
    }
   ],
   "source": [
    "#open a new window for plot\n",
    "%matplotlib tk \n",
    "\n",
    "# load K and first two images\n",
    "K = np.loadtxt('KITTI/K.txt')\n",
    "img0 = cv2.imread('KITTI/000000.png', cv2.IMREAD_GRAYSCALE)\n",
    "img1 = cv2.imread('KITTI/000002.png', cv2.IMREAD_GRAYSCALE)\n",
    "\n",
    "# PARAMETERS\n",
    "param_bootstrap = {\n",
    "    # keypoints\n",
    "    'W_harris_patch' : 4, # size of harris patch\n",
    "    'kappa_harris' : 0.08, # kappa for harris score\n",
    "    'N_keypoint' : 2000, # number of keypoints to be detected\n",
    "    'W_nms' : 8, # patch size for non-maximum supression\n",
    "    # KLT\n",
    "    'W_KLT' : 4, # patch size for KLT\n",
    "    'tol_KLT_bidir' : 1, # tolerence of bidirectional error\n",
    "    # find essential matrix\n",
    "    'tol_E' : 1, # tolerence for epipolar line distance\n",
    "    'tol_E_RANSAC_prob' : 0.99, # eseential matrix RANSAC probability\n",
    "    # triangulation\n",
    "    'tol_TRI_mu' : 1e-3, # tolerence for the singular value ratio\n",
    "    'tol_TRI_rep' : 1 # tolerence for the reprojection error\n",
    "}\n",
    "\n",
    "keypoints0, p_W0, R1, T1 = mae6292.VO_bootstrap(img0, img1, K, param_bootstrap, display = True)   \n",
    "\n",
    "print('N_keypoints0=',len(keypoints0))\n"
   ]
  },
  {
   "cell_type": "markdown",
   "metadata": {},
   "source": [
    "## Localization and Mapping\n",
    "\n",
    "\n",
    "For the first 10 frames, the sequential process for localization and mapping has been implemented by\n",
    "```\n",
    "    R, T, S, C, fig = mae6292.VO_localization_mapping(i_frame, K, img, img_pre, S_pre, C_pre, display_process=True)\n",
    "```\n",
    "Each frame is saved under the folder `KITTI_output`"
   ]
  },
  {
   "cell_type": "code",
   "execution_count": 4,
   "metadata": {
    "tags": []
   },
   "outputs": [
    {
     "name": "stdout",
     "output_type": "stream",
     "text": [
      "i_frame= 1\n",
      "R= [[ 0.99998921  0.00276061  0.00373741]\n",
      " [-0.00276799  0.99999423  0.00196964]\n",
      " [-0.00373195 -0.00197996  0.99999108]]\n",
      "T_W= [ 0.00833623 -0.00609119  0.4921098 ]\n",
      " \n",
      "i_frame= 2\n",
      "S_pre= 728 , KLT_matched= 721 , PnP_inliers= 720 , S_new =  832\n",
      "C_pre= 740 , KLT_matched= 278 , TRI_inliers= 112 , C_new =  329\n",
      "R= [[ 0.99996636  0.00126534  0.00810466]\n",
      " [-0.00129361  0.99999309  0.00348433]\n",
      " [-0.00810019 -0.00349469  0.99996109]]\n",
      "T_W= [ 0.00736367 -0.01118748  1.00122646]\n",
      " \n",
      "i_frame= 3\n",
      "S_pre= 832 , KLT_matched= 744 , PnP_inliers= 741 , S_new =  771\n",
      "C_pre= 329 , KLT_matched= 141 , TRI_inliers= 30 , C_new =  375\n",
      "R= [[ 0.99992348  0.00117117  0.01231551]\n",
      " [-0.00122994  0.99998789  0.00476508]\n",
      " [-0.01230978 -0.00477987  0.99991281]]\n",
      "T_W= [ 0.00285198 -0.01798042  1.52125257]\n",
      " \n",
      "i_frame= 4\n",
      "S_pre= 771 , KLT_matched= 694 , PnP_inliers= 687 , S_new =  723\n",
      "C_pre= 375 , KLT_matched= 145 , TRI_inliers= 36 , C_new =  340\n",
      "R= [[ 9.99844491e-01 -2.61724494e-04  1.76330562e-02]\n",
      " [ 1.71097809e-04  9.99986771e-01  5.14090294e-03]\n",
      " [-1.76341685e-02 -5.13708650e-03  9.99831309e-01]]\n",
      "T_W= [-0.00307061 -0.02787227  2.05311672]\n",
      " \n",
      "i_frame= 5\n",
      "S_pre= 723 , KLT_matched= 645 , PnP_inliers= 640 , S_new =  673\n",
      "C_pre= 340 , KLT_matched= 133 , TRI_inliers= 33 , C_new =  326\n",
      "R= [[ 9.99750335e-01  6.91106540e-04  2.23335965e-02]\n",
      " [-8.06590211e-04  9.99986350e-01  5.16225530e-03]\n",
      " [-2.23297240e-02 -5.17898053e-03  9.99737246e-01]]\n",
      "T_W= [-0.01284261 -0.03848089  2.60161935]\n",
      " \n",
      "i_frame= 6\n",
      "S_pre= 673 , KLT_matched= 611 , PnP_inliers= 598 , S_new =  627\n",
      "C_pre= 326 , KLT_matched= 121 , TRI_inliers= 29 , C_new =  347\n",
      "R= [[ 0.99963267 -0.00132435  0.02706974]\n",
      " [ 0.0011546   0.99997958  0.00628539]\n",
      " [-0.02707751 -0.00625183  0.99961379]]\n",
      "T_W= [-0.02887974 -0.04983907  3.15654732]\n",
      " \n",
      "i_frame= 7\n",
      "S_pre= 627 , KLT_matched= 557 , PnP_inliers= 545 , S_new =  582\n",
      "C_pre= 347 , KLT_matched= 141 , TRI_inliers= 37 , C_new =  355\n",
      "R= [[ 0.99947778 -0.0038914   0.03207832]\n",
      " [ 0.00368617  0.99997238  0.00645437]\n",
      " [-0.03210255 -0.00633275  0.99946452]]\n",
      "T_W= [-0.04818679 -0.06520338  3.72084985]\n",
      " \n",
      "i_frame= 8\n",
      "S_pre= 582 , KLT_matched= 495 , PnP_inliers= 430 , S_new =  467\n",
      "C_pre= 355 , KLT_matched= 133 , TRI_inliers= 37 , C_new =  530\n",
      "R= [[ 0.99928303 -0.00473933  0.03756271]\n",
      " [ 0.00454254  0.99997552  0.00532256]\n",
      " [-0.03758701 -0.00514812  0.9992801 ]]\n",
      "T_W= [-0.07216834 -0.06966725  4.33166309]\n",
      " \n",
      "i_frame= 9\n",
      "S_pre= 467 , KLT_matched= 412 , PnP_inliers= 392 , S_new =  467\n",
      "C_pre= 530 , KLT_matched= 193 , TRI_inliers= 75 , C_new =  510\n",
      "R= [[ 0.99910524 -0.00359558  0.04214019]\n",
      " [ 0.00350676  0.99999147  0.00218152]\n",
      " [-0.04214767 -0.0020318   0.99910933]]\n",
      "T_W= [-0.09498173 -0.08127915  4.91520718]\n",
      " \n",
      "i_frame= 10\n",
      "S_pre= 467 , KLT_matched= 387 , PnP_inliers= 360 , S_new =  385\n",
      "C_pre= 510 , KLT_matched= 173 , TRI_inliers= 25 , C_new =  645\n",
      "R= [[ 0.99890395 -0.00366049  0.04666373]\n",
      " [ 0.0037113   0.99999261 -0.00100219]\n",
      " [-0.04665972  0.00117428  0.99891015]]\n",
      "T_W= [-0.10415401 -0.09863557  5.50934316]\n",
      " \n"
     ]
    }
   ],
   "source": [
    "#open a new window for plot\n",
    "%matplotlib tk \n",
    "importlib.reload(mae6292)\n",
    "\n",
    "param = {\n",
    "    # keypoints\n",
    "    'W_harris_patch' : 4, # size of harris patch\n",
    "    'kappa_harris' : 0.08, # kappa for harris score\n",
    "    'N_keypoint' : 2000, # number of keypoints to be detected\n",
    "    'W_nms' : 8, # patch size for non-maximum supression\n",
    "    # KLT\n",
    "    'W_KLT' : 4, # patch size for KLT\n",
    "    'tol_KLT_bidir' : 1, # tolerence of bidirectional error\n",
    "    # triangulation\n",
    "    'tol_TRI_mu' : 1e-3, # tolerence for the singular value ratio\n",
    "    'tol_TRI_rep' : 0.5, # tolerence for the reprojection error\n",
    "    # mapping\n",
    "    'tol_keypoints_new' : 18 # new keypoints should be district from the tracked keypoints by this distance\n",
    "} # up to 1000 \n",
    "\n",
    "# iniitlize iteration using img0\n",
    "img_pre = img0\n",
    "S_pre = mae6292.state(keypoints0, p_W0, [np.zeros((3,1))])\n",
    "C_pre = mae6292.candidate([],[],[],[])\n",
    "\n",
    "# number of frames to process\n",
    "N_frames = 10\n",
    "display_process = True\n",
    "\n",
    "# variables to save the vehicle location and the keypoints in the W-frame \n",
    "T_W = np.zeros((3,N_frames+1))\n",
    "p_W = p_W0\n",
    "\n",
    "for i_frame in range(1,N_frames+1):\n",
    "    \n",
    "    print('i_frame=',i_frame)\n",
    "\n",
    "    # VO localization and mapping\n",
    "    img = cv2.imread(\"KITTI/{:06d}.png\".format(i_frame),cv2.IMREAD_GRAYSCALE)\n",
    "    img_rgb = cv2.cvtColor(cv2.imread(\"KITTI/{:06d}.png\".format(i_frame)), cv2.COLOR_BGR2RGB)\n",
    "    R, T, S, C, fig = mae6292.VO_localization_mapping(i_frame, img, img_rgb, img_pre, S_pre, C_pre, K, param, display_process)\n",
    "    img_pre, S_pre, C_pre = img, S, C\n",
    "\n",
    "    # save figure \n",
    "    if display_process:\n",
    "        fig.savefig(\"KITTI_output/{:06d}.png\".format(i_frame))\n",
    "        # !!!NOTE!!!:\n",
    "        # when N_frames is large, uncomment the following to avoid generating too many figures in your screeen\n",
    "        # plt.close(fig)\n",
    "\n",
    "    # save the vehicle location and the distinct keypoints \n",
    "    T_W[:,i_frame] = (-R.T@T).flatten()\n",
    "    p_W_dist = scipy.spatial.distance.cdist( S.p_W.T, p_W.T , 'euclidean')\n",
    "    index_distinct = np.where( np.min(p_W_dist, axis=1) > 3 )[0]\n",
    "    p_W = np.append(p_W, S.p_W[:,index_distinct], axis=1)\n",
    "\n",
    "    # print pose\n",
    "    print('R=',R)\n",
    "    print('T_W=',(-R.T@T).flatten())\n",
    "    print(' ')\n",
    "\n",
    "\n"
   ]
  },
  {
   "cell_type": "markdown",
   "metadata": {},
   "source": [
    "## Generate Trajectory Map\n",
    "\n",
    "The following codes visualize the vehicle trajectory and the keypoints in the W-frame. \n",
    "\n",
    "(You may need to adjust th eaxis limit)"
   ]
  },
  {
   "cell_type": "code",
   "execution_count": 5,
   "metadata": {},
   "outputs": [],
   "source": [
    "fig = plt.figure()\n",
    "ax = plt.axes(projection = '3d')\n",
    "ax.plot(T_W[0,:], T_W[1,:], T_W[2,:], 'b')\n",
    "ax.scatter(p_W[0,:], p_W[1,:], p_W[2,:], s=1, c='r', marker='o')\n",
    "ax.set_xlim(-10,20)\n",
    "ax.set_zlim(-2,20)\n",
    "ax.set_xlabel('x',fontsize=6)\n",
    "ax.set_ylabel('y',fontsize=6)\n",
    "ax.set_zlabel('z',fontsize=6)\n",
    "ax.view_init(elev=0., azim=-90)"
   ]
  },
  {
   "cell_type": "markdown",
   "metadata": {},
   "source": [
    "## Generate Video\n",
    "\n",
    "The output images can be converted into a video as follows."
   ]
  },
  {
   "cell_type": "code",
   "execution_count": 7,
   "metadata": {},
   "outputs": [],
   "source": [
    "img_array = []\n",
    "\n",
    "for i_frame in range(1,N_frames):\n",
    "    filename = \"KITTI_output/{:06d}.png\".format(i_frame)\n",
    "    img = cv2.imread(filename)\n",
    "    img_array.append(img)\n",
    "\n",
    "height, width, layers = img.shape\n",
    "size = (width,height)\n",
    "\n",
    "fps = 3\n",
    "codec = cv2.VideoWriter_fourcc(*'mp4v')\n",
    "out = cv2.VideoWriter('KITTI_output/KITTI.mp4',codec, fps, size)\n",
    " \n",
    "for i in range(len(img_array)):\n",
    "    out.write(img_array[i])\n",
    "\n",
    "out.release()"
   ]
  },
  {
   "cell_type": "markdown",
   "metadata": {},
   "source": [
    "## Problems 1 and 2\n",
    "\n",
    "Follow the directions in `project_prob1.ipynb`and `project_prob2.ipynb`"
   ]
  },
  {
   "cell_type": "code",
   "execution_count": null,
   "metadata": {},
   "outputs": [],
   "source": []
  }
 ],
 "metadata": {
  "colab": {
   "collapsed_sections": [
    "YaFe_Ot-ziRV"
   ],
   "name": "image_filtering.ipynb",
   "provenance": [],
   "toc_visible": true
  },
  "kernelspec": {
   "display_name": "Python 3",
   "language": "python",
   "name": "python3"
  },
  "language_info": {
   "codemirror_mode": {
    "name": "ipython",
    "version": 3
   },
   "file_extension": ".py",
   "mimetype": "text/x-python",
   "name": "python",
   "nbconvert_exporter": "python",
   "pygments_lexer": "ipython3",
   "version": "3.9.10"
  }
 },
 "nbformat": 4,
 "nbformat_minor": 1
}
